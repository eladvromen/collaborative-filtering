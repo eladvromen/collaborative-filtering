{
 "cells": [
  {
   "cell_type": "code",
   "execution_count": null,
   "metadata": {},
   "outputs": [],
   "source": [
    "import pandas as pd\n",
    "import numpy as np\n",
    "import pickle\n",
    "import math"
   ]
  },
  {
   "cell_type": "code",
   "execution_count": null,
   "metadata": {},
   "outputs": [],
   "source": [
    "file_to_read = open(\"user2movie.json\", \"rb\")\n",
    "user2movies = pickle.load(file_to_read)\n",
    "\n",
    "file_to_read = open(\"movie2user.json\", \"rb\")\n",
    "movie2users = pickle.load(file_to_read)\n",
    "\n",
    "file_to_read = open(\"usermovie2rating.json\", \"rb\")\n",
    "usermovie2rating = pickle.load(file_to_read)\n",
    "\n",
    "file_to_read = open(\"usermovie2rating_test.json\", \"rb\")\n",
    "usermovie2rating_test = pickle.load(file_to_read)"
   ]
  },
  {
   "cell_type": "code",
   "execution_count": null,
   "metadata": {},
   "outputs": [],
   "source": [
    "def movie_avg_rating(movie_id):\n",
    "    #getting movie id \n",
    "    #return its avg rating over all users who rated it\n",
    "    count_rating =0\n",
    "    sum_rating = 0\n",
    "    for user in movie2users[movie_id]:#iterating over all user id rated movies\n",
    "        sum_rating += usermovie2rating[(user, movie_id)]#sum the rating\n",
    "        count_rating+=1\n",
    "    avg_rating = sum_rating/count_rating\n",
    "    return avg_rating"
   ]
  },
  {
   "cell_type": "code",
   "execution_count": null,
   "metadata": {},
   "outputs": [],
   "source": []
  }
 ],
 "metadata": {
  "kernelspec": {
   "display_name": "Python 3.9.7 ('pythonProject2')",
   "language": "python",
   "name": "python3"
  },
  "language_info": {
   "name": "python",
   "version": "3.9.7"
  },
  "orig_nbformat": 4,
  "vscode": {
   "interpreter": {
    "hash": "37f7830c02798be07331e3a37a70200fffd2a022f5694f6efe52412e914e6c1d"
   }
  }
 },
 "nbformat": 4,
 "nbformat_minor": 2
}
