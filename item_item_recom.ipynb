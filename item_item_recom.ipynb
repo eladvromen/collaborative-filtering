{
 "cells": [
  {
   "cell_type": "code",
   "execution_count": 6,
   "metadata": {},
   "outputs": [],
   "source": [
    "import pandas as pd\n",
    "import numpy as np\n",
    "import pickle\n",
    "import math\n",
    "from heapq import nlargest"
   ]
  },
  {
   "cell_type": "code",
   "execution_count": 7,
   "metadata": {},
   "outputs": [],
   "source": [
    "file_to_read = open(\"user2movie.json\", \"rb\")\n",
    "user2movies = pickle.load(file_to_read)\n",
    "\n",
    "file_to_read = open(\"movie2user.json\", \"rb\")\n",
    "movie2users = pickle.load(file_to_read)\n",
    "\n",
    "file_to_read = open(\"usermovie2rating.json\", \"rb\")\n",
    "usermovie2rating = pickle.load(file_to_read)\n",
    "\n",
    "file_to_read = open(\"usermovie2rating_test.json\", \"rb\")\n",
    "usermovie2rating_test = pickle.load(file_to_read)"
   ]
  },
  {
   "cell_type": "code",
   "execution_count": 8,
   "metadata": {},
   "outputs": [],
   "source": [
    "def movie_avg_rating(movie_id):\n",
    "    #getting movie id \n",
    "    #return its avg rating over all users who rated it\n",
    "    count_rating =0\n",
    "    sum_rating = 0\n",
    "    for user in movie2users[movie_id]:#iterating over all user id rated movies\n",
    "        sum_rating += usermovie2rating[(user, movie_id)]#sum the rating\n",
    "        count_rating+=1\n",
    "    avg_rating = sum_rating/count_rating\n",
    "    return avg_rating"
   ]
  },
  {
   "cell_type": "code",
   "execution_count": 9,
   "metadata": {},
   "outputs": [],
   "source": [
    "def calc_single_w(movie_a, movie_b, movie_avg):\n",
    "#getting two user's id, returning the weight by peerson\n",
    "    movie_a_mean = movie_avg[movie_a]#R_a- need to create this list\n",
    "    movie_b_mean = movie_avg[movie_b]#R_b\n",
    "    numerator = 0\n",
    "    denominator = 0\n",
    "    dom_a = 0\n",
    "    dom_b = 0\n",
    "    #finding the subset of intersection between users who rated both a and b\n",
    "    set_a = movie2users[movie_a]\n",
    "    set_b = movie2users[movie_b]\n",
    "    intersection = set(set(set_a) & set(set_b))\n",
    "    if len(intersection)<5:#if intersection to low, ignore this item\n",
    "        return 0\n",
    "    for user in intersection:\n",
    "        movie_rating_a = usermovie2rating[(user, movie_a)]\n",
    "        movie_rating_b = usermovie2rating[(user, movie_b)]\n",
    "        movie_dev_a = movie_rating_a - movie_a_mean#user a rating deviation of movie\n",
    "        movie_dev_b = movie_rating_b - movie_b_mean#user b rating deviation of movie\n",
    "        numerator += movie_dev_a*movie_dev_b\n",
    "        dom_a += movie_dev_a**2\n",
    "        dom_b += movie_dev_b**2\n",
    "    dom_a = math.sqrt(dom_a)\n",
    "    dom_b = math.sqrt(dom_b)\n",
    "    denominator = dom_a*dom_b\n",
    "    w = numerator/denominator\n",
    "    return w"
   ]
  },
  {
   "cell_type": "code",
   "execution_count": 10,
   "metadata": {},
   "outputs": [],
   "source": [
    "\n",
    "def calculate_all_w(movie_avg):\n",
    "    #calculating all the weights, putting into dict\n",
    "    movie_movie_w = {}\n",
    "\n",
    "    for movie_i in movie2users.keys():#running over all users\n",
    "        for movie_j in movie2users.keys():\n",
    "            if movie_i == movie_j:\n",
    "                continue\n",
    "            if (movie_j, movie_i) in movie_movie_w:\n",
    "                movie_movie_w[(movie_i, movie_j)] = movie_movie_w[(movie_j, movie_i)]#correlation is symetric so if already in dict no need to calc again\n",
    "            else:\n",
    "                 movie_movie_w[(movie_i, movie_j)] = calc_single_w(movie_i, movie_j, movie_avg)\n",
    "        \n",
    "    return movie_movie_w"
   ]
  },
  {
   "cell_type": "code",
   "execution_count": 11,
   "metadata": {},
   "outputs": [],
   "source": [
    "\n",
    "def neighborfy(movie_id, movie_movie_w, relevant_items):\n",
    "#should get a subset of movies top correlated to movie_id\n",
    "   \n",
    "    k=30\n",
    "    movieid_movie_w = {}\n",
    "    for movie in relevant_items:#looping throw subset of movies rated by userid\n",
    "        if movie == movie_id:\n",
    "            continue\n",
    "        else:\n",
    "            movieid_movie_w[movie] = abs(movie_movie_w[movie_id, movie])#taking the two movies weight to the new movie_id dict\n",
    "    \n",
    "    neighbors = nlargest(k, movieid_movie_w, key = movieid_movie_w.get)#getting the k best neighbors\n",
    "    return neighbors"
   ]
  },
  {
   "cell_type": "code",
   "execution_count": 12,
   "metadata": {},
   "outputs": [],
   "source": [
    "def get_score(movie_id, user_id, movie_movie_w, movie_avg):\n",
    "\n",
    "    items_rated_by_user_full= user2movies[user_id]# subset of movies rated by userid\n",
    "    items_rated_by_user = neighborfy(movie_id, movie_movie_w, items_rated_by_user_full) #the top 30\n",
    "\n",
    "    w = {}# a dict containing all the weights between movie_id and other movies from his neighbors \n",
    "\n",
    "    movieId_mean = movie_avg[movie_id]#user_id avg rating of all movies\n",
    "    #TO DO- calc in advance the rating- not depended on movie!\n",
    "    numerator = 0\n",
    "    denominator = 0\n",
    "    for movie in items_rated_by_user:\n",
    "        w[movie]= movie_movie_w[(movie_id, movie)]# fetch current user and user_id weight. \n",
    "        user_rating= movie_avg[movie]#get current user avg\n",
    "        deviation = user_rating - movieId_mean\n",
    "        numerator+= w[movie]*deviation\n",
    "        denominator = denominator+abs(w[movie])\n",
    "    \n",
    "    \n",
    "    if denominator == 0:\n",
    "        return -10000  \n",
    "    score = movieId_mean+ (numerator/denominator)\n",
    "    return score"
   ]
  },
  {
   "cell_type": "code",
   "execution_count": 13,
   "metadata": {},
   "outputs": [],
   "source": [
    "def calc_mse(test, pred):\n",
    "    error =0\n",
    "    count = 0\n",
    "    for pair in test.keys():\n",
    "        error += (test[pair]-pred[pair])**2\n",
    "        count+=1\n",
    "    mse = error/count\n",
    "    return mse"
   ]
  },
  {
   "cell_type": "code",
   "execution_count": 14,
   "metadata": {},
   "outputs": [],
   "source": [
    "\n",
    "movie_avg = {}\n",
    "for movie in movie2users.keys():\n",
    "    movie_avg[movie] = movie_avg_rating(movie)"
   ]
  },
  {
   "cell_type": "code",
   "execution_count": 16,
   "metadata": {},
   "outputs": [],
   "source": [
    "w = calculate_all_w(movie_avg)#calculate w on train dicts\n",
    "with open('weights_item.json', 'wb') as f:\n",
    "  pickle.dump(w, f)"
   ]
  },
  {
   "cell_type": "code",
   "execution_count": 18,
   "metadata": {},
   "outputs": [],
   "source": [
    "scores = {}\n",
    "i=0\n",
    "errors = []\n",
    "for pair in usermovie2rating_test.keys():\n",
    "    user = pair[0]   \n",
    "    scores[pair] = get_score(pair[1], pair[0], w, movie_avg)#for every pair in the test lets find the score\n",
    "    if scores[pair] == -10000:\n",
    "        scores.pop(pair)\n",
    "        errors.append(pair)\n",
    "        print(\"error calculating %s prediction\" %(pair,))\n",
    "    i+=1"
   ]
  },
  {
   "cell_type": "code",
   "execution_count": 19,
   "metadata": {},
   "outputs": [
    {
     "name": "stdout",
     "output_type": "stream",
     "text": [
      "0\n"
     ]
    }
   ],
   "source": [
    "print(len(errors))"
   ]
  },
  {
   "cell_type": "code",
   "execution_count": 20,
   "metadata": {},
   "outputs": [
    {
     "name": "stdout",
     "output_type": "stream",
     "text": [
      "mse: 0.8555111951446921\n"
     ]
    }
   ],
   "source": [
    "for error in errors:\n",
    "    usermovie2rating_test.pop(error)\n",
    "MSE = calc_mse(scores, usermovie2rating_test)\n",
    "print(\"mse:\", MSE)"
   ]
  },
  {
   "cell_type": "code",
   "execution_count": null,
   "metadata": {},
   "outputs": [],
   "source": []
  }
 ],
 "metadata": {
  "kernelspec": {
   "display_name": "Python 3.9.13 64-bit (microsoft store)",
   "language": "python",
   "name": "python3"
  },
  "language_info": {
   "codemirror_mode": {
    "name": "ipython",
    "version": 3
   },
   "file_extension": ".py",
   "mimetype": "text/x-python",
   "name": "python",
   "nbconvert_exporter": "python",
   "pygments_lexer": "ipython3",
   "version": "3.9.13"
  },
  "orig_nbformat": 4,
  "vscode": {
   "interpreter": {
    "hash": "c3d1baa44583d8ec46d9c51771f1212390b5783b843e583a1bb6c33531f0efe2"
   }
  }
 },
 "nbformat": 4,
 "nbformat_minor": 2
}
