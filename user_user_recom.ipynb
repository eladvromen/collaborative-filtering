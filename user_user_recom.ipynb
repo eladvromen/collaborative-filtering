{
 "cells": [
  {
   "cell_type": "code",
   "execution_count": 29,
   "metadata": {},
   "outputs": [],
   "source": [
    "import pandas as pd\n",
    "import numpy as np\n",
    "import pickle\n",
    "import math"
   ]
  },
  {
   "cell_type": "code",
   "execution_count": 30,
   "metadata": {},
   "outputs": [],
   "source": [
    "file_to_read = open(\"user2movie.json\", \"rb\")\n",
    "user2movies = pickle.load(file_to_read)\n",
    "\n",
    "file_to_read = open(\"movie2user.json\", \"rb\")\n",
    "movie2users = pickle.load(file_to_read)\n",
    "\n",
    "file_to_read = open(\"usermovie2rating.json\", \"rb\")\n",
    "usermovie2rating = pickle.load(file_to_read)\n",
    "\n",
    "file_to_read = open(\"usermovie2rating_test.json\", \"rb\")\n",
    "usermovie2rating_test = pickle.load(file_to_read)"
   ]
  },
  {
   "cell_type": "code",
   "execution_count": 31,
   "metadata": {},
   "outputs": [],
   "source": [
    "def user_avg_rating(user_id):\n",
    "    count_rating =0\n",
    "    sum_rating = 0\n",
    "    for movies in user2movies[user_id]:#iterating over all user id rated movies\n",
    "        sum_rating += usermovie2rating[(user_id, movies)]#sum the rating\n",
    "        count_rating+=1\n",
    "    avg_rating = sum_rating/count_rating\n",
    "    return avg_rating\n",
    "\n",
    "    "
   ]
  },
  {
   "cell_type": "code",
   "execution_count": 32,
   "metadata": {},
   "outputs": [],
   "source": [
    "def calc_single_w(user_a, user_b):\n",
    "#getting two user's id, returning the weight by peerson\n",
    "    user_a_mean = user_avg_rating(user_a)#R_a- can shorten...calc avg for all user in advanced\n",
    "    user_b_mean = user_avg_rating(user_b)#R_b\n",
    "    numerator = 0\n",
    "    denominator = 0\n",
    "    dom_a = 0\n",
    "    dom_b = 0\n",
    "    #finding the subset of intersection between movies rated by a and b\n",
    "    set_a = user2movies[user_a]\n",
    "    set_b = user2movies[user_b]\n",
    "    intersection = set(set(set_a) & set(set_b))\n",
    "    if len(intersection)<5:#if intersection to low, ignore this user\n",
    "        return 0\n",
    "    for movie in intersection:\n",
    "        movie_rating_a = usermovie2rating[(user_a, movie)]\n",
    "        movie_rating_b = usermovie2rating[(user_b, movie)]\n",
    "        movie_dev_a = movie_rating_a - user_a_mean#user a rating deviation of movie\n",
    "        movie_dev_b = movie_rating_b - user_b_mean#user b rating deviation of movie\n",
    "        numerator += movie_dev_a*movie_dev_b\n",
    "        dom_a += movie_dev_a**2\n",
    "        dom_b += movie_dev_b**2\n",
    "    dom_a = math.sqrt(dom_a)\n",
    "    dom_b = math.sqrt(dom_b)\n",
    "    denominator = dom_a*dom_b\n",
    "    w = numerator/denominator\n",
    "    return w\n",
    "    "
   ]
  },
  {
   "cell_type": "code",
   "execution_count": 33,
   "metadata": {},
   "outputs": [],
   "source": [
    "\n",
    "def calculate_all_w():\n",
    "    #calculating all the weights, putting into dict\n",
    "    user_user_w = {}\n",
    "    k=25\n",
    "    for user_i in user2movies.keys():#running over all users\n",
    "        for user_j in user2movies.keys():\n",
    "            if user_i == user_j:\n",
    "                continue\n",
    "            if (user_j, user_i) in user_user_w:\n",
    "                user_user_w[(user_i, user_j)] = user_user_w[(user_j, user_i)]#correlation is symetric so if already in dict no need to calc again\n",
    "            else:\n",
    "                 user_user_w[(user_i, user_j)] = calc_single_w(user_i, user_j)\n",
    "        \n",
    "    return user_user_w\n",
    "\n"
   ]
  },
  {
   "cell_type": "code",
   "execution_count": 54,
   "metadata": {},
   "outputs": [],
   "source": [
    "from heapq import nlargest\n",
    "def neighborfy(user_id, user_user_w):\n",
    "#should get a subset of users who rated the movie to k top user's weights to our user\n",
    "   \n",
    "    k=40\n",
    "    userid_user_w = {}\n",
    "    for user in user2movies.keys():#looping throw all users\n",
    "        if user == user_id:\n",
    "            continue\n",
    "        else:\n",
    "            userid_user_w[user] = abs(user_user_w[user_id, user])#taking the two users weight to the new user_id dict\n",
    "    \n",
    "    neighbors = nlargest(k, userid_user_w, key = userid_user_w.get)#geeting the k best neighbors\n",
    "    return neighbors\n",
    "\n"
   ]
  },
  {
   "cell_type": "code",
   "execution_count": 35,
   "metadata": {},
   "outputs": [],
   "source": [
    "def get_score(user_id, movie_id, user_user_w, neighborhood, user_avg):\n",
    "\n",
    "    user_rated_item_full= movie2users[movie_id]# the subset of users who rated the item movie_id \n",
    "    user_rated_item = set(set(user_rated_item_full) & set(neighborhood))#the intersection from the userid neighbours\n",
    "    w = {}# a dict containing all the wheights between user_id and other users from his neighbors who rated the item\n",
    "    userId_mean = user_avg[user_id]#user_id avg rating of all movies\n",
    "    #TO DO- calc in advance the rating- not depended on movie!\n",
    "    numerator = 0\n",
    "    denominator = 0\n",
    "    for user in user_rated_item:\n",
    "        w[user]= user_user_w[(user_id, user)]# fetch current user and user_id weight. \n",
    "        user_rating= user_avg[user]#calculate current user avg\n",
    "        deviation = user_rating - userId_mean\n",
    "        numerator+= w[user]*deviation\n",
    "        denominator = denominator+abs(w[user])\n",
    "    \n",
    "    \n",
    "    if denominator == 0:\n",
    "        return -10000  \n",
    "    score = userId_mean+ (numerator/denominator)\n",
    "    return score\n",
    "        \n"
   ]
  },
  {
   "cell_type": "code",
   "execution_count": 36,
   "metadata": {},
   "outputs": [],
   "source": [
    "def calc_mse(test, pred):\n",
    "    error =0\n",
    "    count = 0\n",
    "    for pair in test.keys():\n",
    "        error += (test[pair]-pred[pair])**2\n",
    "        count+=1\n",
    "    mse = error/count\n",
    "    return mse\n"
   ]
  },
  {
   "cell_type": "code",
   "execution_count": 37,
   "metadata": {},
   "outputs": [],
   "source": [
    "#this is the call for w calculation- it takes 175 min. so we ran it once and saved as file.\n",
    "#w = calculate_all_w()#calculate w on train dicts\n",
    "#with open('weights.json', 'wb') as f:\n",
    "#  pickle.dump(w, f)"
   ]
  },
  {
   "cell_type": "code",
   "execution_count": 38,
   "metadata": {},
   "outputs": [],
   "source": [
    "file_to_read = open(\"weights.json\", \"rb\")\n",
    "w = pickle.load(file_to_read)"
   ]
  },
  {
   "cell_type": "code",
   "execution_count": 39,
   "metadata": {},
   "outputs": [
    {
     "data": {
      "text/plain": [
       "24995000"
      ]
     },
     "execution_count": 39,
     "metadata": {},
     "output_type": "execute_result"
    }
   ],
   "source": [
    "len(w)"
   ]
  },
  {
   "cell_type": "code",
   "execution_count": 55,
   "metadata": {},
   "outputs": [],
   "source": [
    "#calc all users avg and neighbors\n",
    "user_avg = {}\n",
    "neighborhood = {}\n",
    "for user in user2movies.keys():\n",
    "    neighborhood[user] = neighborfy(user, w)#lets find his neiborhood\n",
    "    user_avg[user] = user_avg_rating(user)\n"
   ]
  },
  {
   "cell_type": "code",
   "execution_count": 56,
   "metadata": {},
   "outputs": [],
   "source": [
    "\n",
    "scores = {}\n",
    "i=0\n",
    "errors = []\n",
    "for pair in usermovie2rating_test.keys():\n",
    "    user = pair[0]   \n",
    "    scores[pair] = get_score(pair[0], pair[1], w, neighborhood[pair[0]], user_avg)#for every pair in the test lets find the score\n",
    "    if scores[pair] == -10000:\n",
    "        scores.pop(pair)\n",
    "        errors.append(pair)\n",
    "        print(\"error calculating %s prediction\" %(pair,))\n",
    "    i+=1\n"
   ]
  },
  {
   "cell_type": "code",
   "execution_count": 57,
   "metadata": {},
   "outputs": [
    {
     "data": {
      "text/plain": [
       "[]"
      ]
     },
     "execution_count": 57,
     "metadata": {},
     "output_type": "execute_result"
    }
   ],
   "source": [
    "errors"
   ]
  },
  {
   "cell_type": "code",
   "execution_count": 58,
   "metadata": {},
   "outputs": [],
   "source": [
    "def error_remove():\n",
    "    for error in errors:\n",
    "        usermovie2rating_test.pop(error)\n",
    "    MSE = calc_mse(scores, usermovie2rating_test)\n",
    "    print(\"mse:\", MSE)\n",
    "    pass"
   ]
  },
  {
   "cell_type": "code",
   "execution_count": 61,
   "metadata": {},
   "outputs": [
    {
     "data": {
      "text/plain": [
       "0"
      ]
     },
     "execution_count": 61,
     "metadata": {},
     "output_type": "execute_result"
    }
   ],
   "source": [
    "len(errors)\n",
    "#great!"
   ]
  },
  {
   "cell_type": "code",
   "execution_count": 60,
   "metadata": {},
   "outputs": [
    {
     "name": "stdout",
     "output_type": "stream",
     "text": [
      "mse: 0.9765449056416119\n"
     ]
    }
   ],
   "source": [
    "for error in errors:\n",
    "    usermovie2rating_test.pop(error)\n",
    "MSE = calc_mse(scores, usermovie2rating_test)\n",
    "print(\"mse:\", MSE)\n",
    "    "
   ]
  }
 ],
 "metadata": {
  "kernelspec": {
   "display_name": "Python 3.9.13 64-bit (microsoft store)",
   "language": "python",
   "name": "python3"
  },
  "language_info": {
   "codemirror_mode": {
    "name": "ipython",
    "version": 3
   },
   "file_extension": ".py",
   "mimetype": "text/x-python",
   "name": "python",
   "nbconvert_exporter": "python",
   "pygments_lexer": "ipython3",
   "version": "3.9.13"
  },
  "orig_nbformat": 4,
  "vscode": {
   "interpreter": {
    "hash": "c3d1baa44583d8ec46d9c51771f1212390b5783b843e583a1bb6c33531f0efe2"
   }
  }
 },
 "nbformat": 4,
 "nbformat_minor": 2
}
